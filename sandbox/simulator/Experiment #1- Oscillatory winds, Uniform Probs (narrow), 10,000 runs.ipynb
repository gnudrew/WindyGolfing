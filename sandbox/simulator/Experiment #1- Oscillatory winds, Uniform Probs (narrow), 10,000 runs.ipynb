{
 "cells": [
  {
   "cell_type": "markdown",
   "id": "f0e5ada6",
   "metadata": {},
   "source": [
    "# Experiment #1"
   ]
  },
  {
   "cell_type": "markdown",
   "id": "40c4d153",
   "metadata": {},
   "source": [
    "Let's start with a simple scenario... the wind velocity rotates in a circle and the agent uses uniform probability functions bounded to a fairly tight range."
   ]
  },
  {
   "cell_type": "markdown",
   "id": "db322ba2",
   "metadata": {},
   "source": [
    "* Winds: *Oscillatory*\n",
    "    * Description of the wind behavior: the wind velocity vector traces out a circle in the XY plane blowing at a constant speed of 10 m/s and changing direction at a rate of ~57 degrees (1 radian) per second.\n",
    "    * base_velocity = (0, 0, 0) m/s\n",
    "    * amplitude = (10, 10, 0) m/s\n",
    "    * frequency = (1, 1, 0) rad/s\n",
    "    * phase_offset = (0, pi/2, 0) rad\n",
    "* Aiming geometry: *Spherical*\n",
    "* Agent probability distributions: *Uniform* (for timing, speed, & aiming)\n",
    "    * timing: [0, 2] s\n",
    "    * speed: [40, 44] m/s\n",
    "    * aiming:\n",
    "        * Theta (X1): [-10, 10] deg --> [-0.1745329, 0.1745329] rad\n",
    "        * Phi (X2): [42, 48] deg --> [0.7330383, 0.837758] rad\n",
    "* Simulation sampling:\n",
    "    * num_runs = 10,000\n",
    "    * num_workers = 1"
   ]
  },
  {
   "cell_type": "markdown",
   "id": "cc8debd5",
   "metadata": {},
   "source": [
    "## Imports"
   ]
  },
  {
   "cell_type": "code",
   "execution_count": 1,
   "id": "2bead355",
   "metadata": {},
   "outputs": [],
   "source": [
    "from simulator.simulation.scientists import ExperimentRunner, ExperimentCollater\n",
    "\n",
    "import numpy as np\n",
    "import requests"
   ]
  },
  {
   "cell_type": "markdown",
   "id": "163e190d",
   "metadata": {},
   "source": [
    "## Step 1: Generate Winds Spacetime"
   ]
  },
  {
   "cell_type": "code",
   "execution_count": 2,
   "id": "b3c51d0c",
   "metadata": {
    "scrolled": true
   },
   "outputs": [
    {
     "name": "stdout",
     "output_type": "stream",
     "text": [
      "{'message': 'Already exists', 'id': 'a7f87aeb-07ff-4ff9-9697-063621bc11f2'}\n",
      "a7f87aeb-07ff-4ff9-9697-063621bc11f2\n"
     ]
    }
   ],
   "source": [
    "windgenparams = {\n",
    "    'is_oscillatory': True,\n",
    "    'amplitude': [10, 10, 0],\n",
    "    'frequency': [1, 1, 0],\n",
    "    'phase_offset': [0, np.pi, 0],\n",
    "}\n",
    "res = requests.post('http://localhost:8000/winds/wind-gen-params/', data=windgenparams)\n",
    "res_data = res.json()\n",
    "print(res_data)\n",
    "windgenparams_id = res_data['id']\n",
    "print(windgenparams_id)"
   ]
  },
  {
   "cell_type": "code",
   "execution_count": 3,
   "id": "79c1d9c6",
   "metadata": {},
   "outputs": [
    {
     "name": "stdout",
     "output_type": "stream",
     "text": [
      "{'message': 'Already exists', 'id': 'bff004b0-53c1-49a6-be2b-5a1006e6339e'}\n",
      "bff004b0-53c1-49a6-be2b-5a1006e6339e\n"
     ]
    }
   ],
   "source": [
    "windspacetime = {\n",
    "    'generator_name': 'oscillatory',\n",
    "    'generator_params': windgenparams_id,\n",
    "    'duration': 10,\n",
    "    'timestep': 0.01,\n",
    "}\n",
    "res = requests.post('http://127.0.0.1:8000/winds/wind-spacetimes/', data=windspacetime)\n",
    "res_data = res.json()\n",
    "print(res_data)\n",
    "windspacetime_id = res_data['id']\n",
    "print(windspacetime_id)"
   ]
  },
  {
   "cell_type": "markdown",
   "id": "c72d05b9",
   "metadata": {},
   "source": [
    "## Step 2: Run Simulation Experiment"
   ]
  },
  {
   "cell_type": "code",
   "execution_count": 1,
   "id": "93854307",
   "metadata": {},
   "outputs": [
    {
     "ename": "NameError",
     "evalue": "name 'windgenparams_id' is not defined",
     "output_type": "error",
     "traceback": [
      "\u001b[1;31m-------------------------------------------------------\u001b[0m",
      "\u001b[1;31mNameError\u001b[0m             Traceback (most recent call last)",
      "Cell \u001b[1;32mIn[1], line 2\u001b[0m\n\u001b[0;32m      1\u001b[0m experiment_params \u001b[38;5;241m=\u001b[39m {\n\u001b[1;32m----> 2\u001b[0m         \u001b[38;5;124m'\u001b[39m\u001b[38;5;124mwindgenparams_id\u001b[39m\u001b[38;5;124m'\u001b[39m: \u001b[43mwindgenparams_id\u001b[49m,\n\u001b[0;32m      3\u001b[0m         \u001b[38;5;124m'\u001b[39m\u001b[38;5;124mwindspacetime_id\u001b[39m\u001b[38;5;124m'\u001b[39m: windspacetime_id,\n\u001b[0;32m      4\u001b[0m         \u001b[38;5;124m'\u001b[39m\u001b[38;5;124mnum_trials\u001b[39m\u001b[38;5;124m'\u001b[39m: \u001b[38;5;241m10000\u001b[39m,\n\u001b[0;32m      5\u001b[0m         \u001b[38;5;124m'\u001b[39m\u001b[38;5;124mtimestep\u001b[39m\u001b[38;5;124m'\u001b[39m: \u001b[38;5;241m0.01\u001b[39m,\n\u001b[0;32m      6\u001b[0m         \u001b[38;5;124m'\u001b[39m\u001b[38;5;124mprob_speed_fn_name\u001b[39m\u001b[38;5;124m'\u001b[39m: \u001b[38;5;124m'\u001b[39m\u001b[38;5;124mUniform\u001b[39m\u001b[38;5;124m'\u001b[39m,\n\u001b[0;32m      7\u001b[0m         \u001b[38;5;124m'\u001b[39m\u001b[38;5;124mprob_speed_min\u001b[39m\u001b[38;5;124m'\u001b[39m: \u001b[38;5;241m40\u001b[39m,\n\u001b[0;32m      8\u001b[0m         \u001b[38;5;124m'\u001b[39m\u001b[38;5;124mprob_speed_max\u001b[39m\u001b[38;5;124m'\u001b[39m: \u001b[38;5;241m44\u001b[39m, \u001b[38;5;66;03m# m/s\u001b[39;00m\n\u001b[0;32m      9\u001b[0m         \u001b[38;5;124m'\u001b[39m\u001b[38;5;124mprob_speed_center\u001b[39m\u001b[38;5;124m'\u001b[39m: \u001b[38;5;28;01mNone\u001b[39;00m,\n\u001b[0;32m     10\u001b[0m         \u001b[38;5;124m'\u001b[39m\u001b[38;5;124mprob_speed_spread\u001b[39m\u001b[38;5;124m'\u001b[39m: \u001b[38;5;28;01mNone\u001b[39;00m,\n\u001b[0;32m     11\u001b[0m         \u001b[38;5;124m'\u001b[39m\u001b[38;5;124mprob_timing_fn_name\u001b[39m\u001b[38;5;124m'\u001b[39m: \u001b[38;5;124m'\u001b[39m\u001b[38;5;124mUniform\u001b[39m\u001b[38;5;124m'\u001b[39m,\n\u001b[0;32m     12\u001b[0m         \u001b[38;5;124m'\u001b[39m\u001b[38;5;124mprob_timing_min\u001b[39m\u001b[38;5;124m'\u001b[39m: \u001b[38;5;241m0\u001b[39m, \u001b[38;5;66;03m# s\u001b[39;00m\n\u001b[0;32m     13\u001b[0m         \u001b[38;5;124m'\u001b[39m\u001b[38;5;124mprob_timing_max\u001b[39m\u001b[38;5;124m'\u001b[39m: \u001b[38;5;241m2\u001b[39m,\n\u001b[0;32m     14\u001b[0m         \u001b[38;5;124m'\u001b[39m\u001b[38;5;124mprob_timing_center\u001b[39m\u001b[38;5;124m'\u001b[39m: \u001b[38;5;28;01mNone\u001b[39;00m,\n\u001b[0;32m     15\u001b[0m         \u001b[38;5;124m'\u001b[39m\u001b[38;5;124mprob_timing_spread\u001b[39m\u001b[38;5;124m'\u001b[39m: \u001b[38;5;28;01mNone\u001b[39;00m,\n\u001b[0;32m     16\u001b[0m         \u001b[38;5;124m'\u001b[39m\u001b[38;5;124mprob_aiming_fn_name\u001b[39m\u001b[38;5;124m'\u001b[39m: \u001b[38;5;124m'\u001b[39m\u001b[38;5;124mUniform\u001b[39m\u001b[38;5;124m'\u001b[39m,\n\u001b[0;32m     17\u001b[0m         \u001b[38;5;124m'\u001b[39m\u001b[38;5;124mprob_aiming_geometry\u001b[39m\u001b[38;5;124m'\u001b[39m: \u001b[38;5;124m'\u001b[39m\u001b[38;5;124mSpherical\u001b[39m\u001b[38;5;124m'\u001b[39m,\n\u001b[0;32m     18\u001b[0m         \u001b[38;5;124m'\u001b[39m\u001b[38;5;124mprob_aiming_X1_min\u001b[39m\u001b[38;5;124m'\u001b[39m: \u001b[38;5;241m-\u001b[39m\u001b[38;5;241m0.1745329\u001b[39m,  \u001b[38;5;66;03m# -10 deg\u001b[39;00m\n\u001b[0;32m     19\u001b[0m         \u001b[38;5;124m'\u001b[39m\u001b[38;5;124mprob_aiming_X1_max\u001b[39m\u001b[38;5;124m'\u001b[39m: \u001b[38;5;241m0.1745329\u001b[39m,   \u001b[38;5;66;03m#  10 deg\u001b[39;00m\n\u001b[0;32m     20\u001b[0m         \u001b[38;5;124m'\u001b[39m\u001b[38;5;124mprob_aiming_X1_center\u001b[39m\u001b[38;5;124m'\u001b[39m: \u001b[38;5;28;01mNone\u001b[39;00m,\n\u001b[0;32m     21\u001b[0m         \u001b[38;5;124m'\u001b[39m\u001b[38;5;124mprob_aiming_X1_spread\u001b[39m\u001b[38;5;124m'\u001b[39m: \u001b[38;5;28;01mNone\u001b[39;00m,\n\u001b[0;32m     22\u001b[0m         \u001b[38;5;124m'\u001b[39m\u001b[38;5;124mprob_aiming_X2_min\u001b[39m\u001b[38;5;124m'\u001b[39m: \u001b[38;5;241m0.7330383\u001b[39m,   \u001b[38;5;66;03m# 42 deg\u001b[39;00m\n\u001b[0;32m     23\u001b[0m         \u001b[38;5;124m'\u001b[39m\u001b[38;5;124mprob_aiming_X2_max\u001b[39m\u001b[38;5;124m'\u001b[39m: \u001b[38;5;241m0.837758\u001b[39m, \u001b[38;5;66;03m# 48 deg\u001b[39;00m\n\u001b[0;32m     24\u001b[0m         \u001b[38;5;124m'\u001b[39m\u001b[38;5;124mprob_aiming_X2_spread\u001b[39m\u001b[38;5;124m'\u001b[39m: \u001b[38;5;28;01mNone\u001b[39;00m,\n\u001b[0;32m     25\u001b[0m         \u001b[38;5;124m'\u001b[39m\u001b[38;5;124mprob_aiming_X3_min\u001b[39m\u001b[38;5;124m'\u001b[39m: \u001b[38;5;241m0\u001b[39m,      \u001b[38;5;66;03m# throwaway coordinate\u001b[39;00m\n\u001b[0;32m     26\u001b[0m         \u001b[38;5;124m'\u001b[39m\u001b[38;5;124mprob_aiming_X3_max\u001b[39m\u001b[38;5;124m'\u001b[39m: \u001b[38;5;241m1\u001b[39m,\n\u001b[0;32m     27\u001b[0m         \u001b[38;5;124m'\u001b[39m\u001b[38;5;124mprob_aiming_X3_center\u001b[39m\u001b[38;5;124m'\u001b[39m: \u001b[38;5;28;01mNone\u001b[39;00m,\n\u001b[0;32m     28\u001b[0m         \u001b[38;5;124m'\u001b[39m\u001b[38;5;124mprob_aiming_X3_spread\u001b[39m\u001b[38;5;124m'\u001b[39m: \u001b[38;5;28;01mNone\u001b[39;00m,    \n\u001b[0;32m     29\u001b[0m }\n\u001b[0;32m     31\u001b[0m runner \u001b[38;5;241m=\u001b[39m ExperimentRunner(experiment_params)\n\u001b[0;32m     33\u001b[0m simtrial_ids \u001b[38;5;241m=\u001b[39m runner\u001b[38;5;241m.\u001b[39mrun_experiment()\n",
      "\u001b[1;31mNameError\u001b[0m: name 'windgenparams_id' is not defined"
     ]
    }
   ],
   "source": [
    "experiment_params = {\n",
    "        'windgenparams_id': windgenparams_id,\n",
    "        'windspacetime_id': windspacetime_id,\n",
    "        'num_trials': 10000,\n",
    "        'timestep': 0.01,\n",
    "        'prob_speed_fn_name': 'Uniform',\n",
    "        'prob_speed_min': 40,\n",
    "        'prob_speed_max': 44, # m/s\n",
    "        'prob_speed_center': None,\n",
    "        'prob_speed_spread': None,\n",
    "        'prob_timing_fn_name': 'Uniform',\n",
    "        'prob_timing_min': 0, # s\n",
    "        'prob_timing_max': 2,\n",
    "        'prob_timing_center': None,\n",
    "        'prob_timing_spread': None,\n",
    "        'prob_aiming_fn_name': 'Uniform',\n",
    "        'prob_aiming_geometry': 'Spherical',\n",
    "        'prob_aiming_X1_min': -0.1745329,  # -10 deg\n",
    "        'prob_aiming_X1_max': 0.1745329,   #  10 deg\n",
    "        'prob_aiming_X1_center': None,\n",
    "        'prob_aiming_X1_spread': None,\n",
    "        'prob_aiming_X2_min': 0.7330383,   # 42 deg\n",
    "        'prob_aiming_X2_max': 0.837758, # 48 deg\n",
    "        'prob_aiming_X2_spread': None,\n",
    "        'prob_aiming_X3_min': 0,      # throwaway coordinate\n",
    "        'prob_aiming_X3_max': 1,\n",
    "        'prob_aiming_X3_center': None,\n",
    "        'prob_aiming_X3_spread': None,    \n",
    "}\n",
    "\n",
    "runner = ExperimentRunner(experiment_params)\n",
    "\n",
    "simtrial_ids = runner.run_experiment()\n",
    "\n",
    "collater = ExperimentCollater(experiment_params, chunked_simtrial_ids=[simtrial_ids])\n",
    "collater.save_experiment()"
   ]
  },
  {
   "cell_type": "markdown",
   "id": "84ee4d97",
   "metadata": {},
   "source": [
    "## Step 3: Analyze Results"
   ]
  }
 ],
 "metadata": {
  "kernelspec": {
   "display_name": "Django Shell-Plus",
   "language": "python",
   "name": "django_extensions"
  },
  "language_info": {
   "codemirror_mode": {
    "name": "ipython",
    "version": 3
   },
   "file_extension": ".py",
   "mimetype": "text/x-python",
   "name": "python",
   "nbconvert_exporter": "python",
   "pygments_lexer": "ipython3",
   "version": "3.11.0"
  },
  "vscode": {
   "interpreter": {
    "hash": "0142ca43a1843b8be189037626852c669159625eccf87d58667f7951b61917cd"
   }
  }
 },
 "nbformat": 4,
 "nbformat_minor": 5
}
