{
 "cells": [
  {
   "cell_type": "markdown",
   "id": "f0e5ada6",
   "metadata": {},
   "source": [
    "# Experiment #1"
   ]
  },
  {
   "cell_type": "markdown",
   "id": "40c4d153",
   "metadata": {},
   "source": [
    "Let's start with a simple scenario... the wind velocity rotates in a circle and the agent uses uniform probability functions bounded to a fairly tight range."
   ]
  },
  {
   "cell_type": "markdown",
   "id": "db322ba2",
   "metadata": {},
   "source": [
    "* Winds: *Oscillatory*\n",
    "    * Description of the wind behavior: the wind velocity vector traces out a circle in the XY plane blowing at a constant speed of 10 m/s and changing direction at a rate of ~57 degrees (1 radian) per second.\n",
    "    * base_velocity = (0, 0, 0) m/s\n",
    "    * amplitude = (10, 10, 0) m/s\n",
    "    * frequency = (1, 1, 0) rad/s\n",
    "    * phase_offset = (0, pi/2, 0) rad\n",
    "* Aiming geometry: *Spherical*\n",
    "* Agent probability distributions: *Uniform* (for timing, speed, & aiming)\n",
    "    * timing: [0, 2] s\n",
    "    * speed: [40, 44] m/s\n",
    "    * aiming:\n",
    "        * Theta (X1): [-10, 10] deg --> [-0.1745329, 0.1745329] rad\n",
    "        * Phi (X2): [42, 48] deg --> [0.7330383, 0.837758] rad\n",
    "* Simulation sampling:\n",
    "    * num_runs = 10,000\n",
    "    * num_workers = 1"
   ]
  },
  {
   "cell_type": "markdown",
   "id": "cc8debd5",
   "metadata": {},
   "source": [
    "## Imports"
   ]
  },
  {
   "cell_type": "code",
   "execution_count": 1,
   "id": "2bead355",
   "metadata": {},
   "outputs": [],
   "source": [
    "from simulator.simulation.scientists import ExperimentRunner, ExperimentCollater\n",
    "\n",
    "import numpy as np\n",
    "import requests"
   ]
  },
  {
   "cell_type": "markdown",
   "id": "163e190d",
   "metadata": {},
   "source": [
    "## Step 1: Generate Winds Spacetime"
   ]
  },
  {
   "cell_type": "code",
   "execution_count": 2,
   "id": "b3c51d0c",
   "metadata": {
    "scrolled": true
   },
   "outputs": [
    {
     "name": "stdout",
     "output_type": "stream",
     "text": [
      "{'message': 'Already exists', 'id': 'a7f87aeb-07ff-4ff9-9697-063621bc11f2'}\n",
      "a7f87aeb-07ff-4ff9-9697-063621bc11f2\n"
     ]
    }
   ],
   "source": [
    "windgenparams = {\n",
    "    'is_oscillatory': True,\n",
    "    'amplitude': [10, 10, 0],\n",
    "    'frequency': [1, 1, 0],\n",
    "    'phase_offset': [0, np.pi, 0],\n",
    "}\n",
    "res = requests.post('http://localhost:8000/winds/wind-gen-params/', data=windgenparams)\n",
    "res_data = res.json()\n",
    "print(res_data)\n",
    "windgenparams_id = res_data['id']\n",
    "print(windgenparams_id)"
   ]
  },
  {
   "cell_type": "code",
   "execution_count": 3,
   "id": "79c1d9c6",
   "metadata": {},
   "outputs": [
    {
     "name": "stdout",
     "output_type": "stream",
     "text": [
      "{'message': 'Already exists', 'id': 'bff004b0-53c1-49a6-be2b-5a1006e6339e'}\n",
      "bff004b0-53c1-49a6-be2b-5a1006e6339e\n"
     ]
    }
   ],
   "source": [
    "windspacetime = {\n",
    "    'generator_name': 'oscillatory',\n",
    "    'generator_params': windgenparams_id,\n",
    "    'duration': 10,\n",
    "    'timestep': 0.01,\n",
    "}\n",
    "res = requests.post('http://127.0.0.1:8000/winds/wind-spacetimes/', data=windspacetime)\n",
    "res_data = res.json()\n",
    "print(res_data)\n",
    "windspacetime_id = res_data['id']\n",
    "print(windspacetime_id)"
   ]
  },
  {
   "cell_type": "markdown",
   "id": "c72d05b9",
   "metadata": {},
   "source": [
    "## Step 2: Run Simulation Experiment"
   ]
  },
  {
   "cell_type": "code",
   "execution_count": null,
   "id": "93854307",
   "metadata": {},
   "outputs": [],
   "source": [
    "experiment_params = {\n",
    "    \n",
    "}\n",
    "\n",
    "runner = ExperimentRunner(experiment_params)\n",
    "\n",
    "simtrial_ids = runner.run_experiment()\n",
    "\n",
    "collater = ExperimentCollater(experiment_params, chunked_simtrial_ids=[simtrial_ids])\n",
    "collater.save_experiment()"
   ]
  },
  {
   "cell_type": "markdown",
   "id": "84ee4d97",
   "metadata": {},
   "source": [
    "## Step 3: Analyze Results"
   ]
  }
 ],
 "metadata": {
  "kernelspec": {
   "display_name": "Django Shell-Plus",
   "language": "python",
   "name": "django_extensions"
  },
  "language_info": {
   "codemirror_mode": {
    "name": "ipython",
    "version": 3
   },
   "file_extension": ".py",
   "mimetype": "text/x-python",
   "name": "python",
   "nbconvert_exporter": "python",
   "pygments_lexer": "ipython3",
   "version": "3.11.0 (main, Oct 24 2022, 18:26:48) [MSC v.1933 64 bit (AMD64)]"
  },
  "vscode": {
   "interpreter": {
    "hash": "0142ca43a1843b8be189037626852c669159625eccf87d58667f7951b61917cd"
   }
  }
 },
 "nbformat": 4,
 "nbformat_minor": 5
}
