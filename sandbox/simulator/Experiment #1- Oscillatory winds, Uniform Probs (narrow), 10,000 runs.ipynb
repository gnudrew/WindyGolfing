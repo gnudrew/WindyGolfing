{
 "cells": [
  {
   "cell_type": "markdown",
   "id": "18d2da64",
   "metadata": {},
   "source": [
    "# Experiment #1"
   ]
  },
  {
   "cell_type": "markdown",
   "id": "4fbbb9a7",
   "metadata": {},
   "source": [
    "Let's start with a simple scenario... the wind velocity rotates in a circle and the agent uses uniform probability functions."
   ]
  },
  {
   "cell_type": "markdown",
   "id": "e58672bb",
   "metadata": {},
   "source": [
    "* Winds: *Oscillatory*\n",
    "    * Description of the wind behavior: the wind velocity vector traces out a circle in the XY plane blowing at a constant speed of 10 m/s and changing direction at a rate of ~57 degrees (1 radian) per second.\n",
    "    * base_velocity = (0, 0, 0) m/s\n",
    "    * amplitude = (10, 10, 0) m/s\n",
    "    * frequency = (1, 1, 0) rad/s\n",
    "    * phase_offset = (0, pi/2, 0) rad\n",
    "* Aiming geometry: *Spherical*\n",
    "* Skilled probability distributions: *Uniform* (for timing, speed, & aiming)\n",
    "    * timing: [0, 2] s\n",
    "    * speed: [40, 44] m/s\n",
    "    * aiming:\n",
    "        * Theta (X1): [-10, 10] deg --> [-0.1745329, 0.1745329] rad\n",
    "        * Phi (X2): [42, 48] deg --> [0.7330383, 0.837758] rad\n",
    "* Simulation sampling:\n",
    "    * num_runs = 10,000\n",
    "    * num_workers = 1"
   ]
  },
  {
   "cell_type": "markdown",
   "id": "d6691fe0",
   "metadata": {},
   "source": [
    "## Step 1: Generate Winds Spacetime"
   ]
  },
  {
   "cell_type": "markdown",
   "id": "9d116965",
   "metadata": {},
   "source": [
    "## Step 2: Run Simulation Experiment"
   ]
  },
  {
   "cell_type": "markdown",
   "id": "75f4583e",
   "metadata": {},
   "source": [
    "## Step 3: Analyze Results"
   ]
  }
 ],
 "metadata": {
  "kernelspec": {
   "display_name": "Django Shell-Plus",
   "language": "python",
   "name": "django_extensions"
  },
  "language_info": {
   "codemirror_mode": {
    "name": "ipython",
    "version": 3
   },
   "file_extension": ".py",
   "mimetype": "text/x-python",
   "name": "python",
   "nbconvert_exporter": "python",
   "pygments_lexer": "ipython3",
   "version": "3.11.0"
  }
 },
 "nbformat": 4,
 "nbformat_minor": 5
}
