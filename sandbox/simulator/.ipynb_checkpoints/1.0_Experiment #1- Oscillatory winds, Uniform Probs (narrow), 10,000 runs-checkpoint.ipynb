{
 "cells": [
  {
   "cell_type": "markdown",
   "id": "f0e5ada6",
   "metadata": {},
   "source": [
    "# Experiment #1"
   ]
  },
  {
   "cell_type": "markdown",
   "id": "40c4d153",
   "metadata": {},
   "source": [
    "Let's start with a simple scenario... the wind velocity rotates in a circle and the agent uses uniform probability functions bounded to a fairly tight range."
   ]
  },
  {
   "cell_type": "markdown",
   "id": "db322ba2",
   "metadata": {},
   "source": [
    "* Winds: *Oscillatory*\n",
    "    * Description of the wind behavior: the wind velocity vector traces out a circle in the XY plane blowing at a constant speed of 10 m/s and changing direction at a rate of ~57 degrees (1 radian) per second.\n",
    "    * base_velocity = (0, 0, 0) m/s\n",
    "    * amplitude = (10, 10, 0) m/s\n",
    "    * frequency = (1, 1, 0) rad/s\n",
    "    * phase_offset = (0, pi/2, 0) rad\n",
    "* Aiming geometry: *Spherical*\n",
    "* Agent probability distributions: *Uniform* (for timing, speed, & aiming)\n",
    "    * timing: [0, 2] s\n",
    "    * speed: [40, 44] m/s\n",
    "    * aiming:\n",
    "        * Theta (X1): [-10, 10] deg --> [-0.1745329, 0.1745329] rad\n",
    "        * Phi (X2): [42, 48] deg --> [0.7330383, 0.837758] rad\n",
    "* Simulation sampling:\n",
    "    * num_runs = 10,000\n",
    "    * num_workers = 1"
   ]
  },
  {
   "cell_type": "markdown",
   "id": "cc8debd5",
   "metadata": {},
   "source": [
    "## Imports"
   ]
  },
  {
   "cell_type": "code",
   "execution_count": 1,
   "id": "2bead355",
   "metadata": {},
   "outputs": [],
   "source": [
    "from simulator.simulation.scientists import ExperimentRunner, ExperimentCollater\n",
    "\n",
    "import numpy as np\n",
    "import requests"
   ]
  },
  {
   "cell_type": "markdown",
   "id": "163e190d",
   "metadata": {},
   "source": [
    "## Step 1: Generate Winds Spacetime"
   ]
  },
  {
   "cell_type": "code",
   "execution_count": 3,
   "id": "b3c51d0c",
   "metadata": {
    "scrolled": true
   },
   "outputs": [
    {
     "name": "stdout",
     "output_type": "stream",
     "text": [
      "{'message': 'Already exists', 'id': 'a7f87aeb-07ff-4ff9-9697-063621bc11f2'}\n",
      "a7f87aeb-07ff-4ff9-9697-063621bc11f2\n"
     ]
    }
   ],
   "source": [
    "windgenparams = {\n",
    "    'is_oscillatory': True,\n",
    "    'amplitude': [10, 10, 0],\n",
    "    'frequency': [1, 1, 0],\n",
    "    'phase_offset': [0, np.pi, 0],\n",
    "}\n",
    "res = requests.post('http://localhost:8000/winds/wind-gen-params/', data=windgenparams)\n",
    "res_data = res.json()\n",
    "print(res_data)\n",
    "windgenparams_id = res_data['id']\n",
    "print(windgenparams_id)"
   ]
  },
  {
   "cell_type": "code",
   "execution_count": 4,
   "id": "79c1d9c6",
   "metadata": {},
   "outputs": [
    {
     "name": "stdout",
     "output_type": "stream",
     "text": [
      "{'message': 'Already exists', 'id': 'bff004b0-53c1-49a6-be2b-5a1006e6339e'}\n",
      "bff004b0-53c1-49a6-be2b-5a1006e6339e\n"
     ]
    }
   ],
   "source": [
    "windspacetime = {\n",
    "    'generator_name': 'oscillatory',\n",
    "    'generator_params': windgenparams_id,\n",
    "    'duration': 10,\n",
    "    'timestep': 0.01,\n",
    "}\n",
    "res = requests.post('http://127.0.0.1:8000/winds/wind-spacetimes/', data=windspacetime)\n",
    "res_data = res.json()\n",
    "print(res_data)\n",
    "windspacetime_id = res_data['id']\n",
    "print(windspacetime_id)"
   ]
  },
  {
   "cell_type": "markdown",
   "id": "c72d05b9",
   "metadata": {},
   "source": [
    "## Step 2: Run Simulation Experiment"
   ]
  },
  {
   "cell_type": "code",
   "execution_count": 5,
   "id": "93854307",
   "metadata": {},
   "outputs": [
    {
     "name": "stdout",
     "output_type": "stream",
     "text": [
      "[Scientist] >>>>>>>>>>>>>> Running Trial #0 >>>>>>>>>>>>>>\n",
      "[SimTrialRunner] Preparing parameters...\n",
      "[SimTrialRunner] OK.\n",
      "[SimTrialRunner] ====================================\n",
      "[SimTrialRunner] Run parameters are:\n",
      "  >> t_initial    = 166\n",
      "  >> p_initial    = [ 0  0 10]\n",
      "  >> v_initial    = [28.69972002 -1.61488534 28.76452316]\n",
      "  >> timestep     = 0.01\n",
      "  >> g            = 9.81\n",
      "  >> m            = 0.0456\n",
      "  >> drag_coef    = 0\n",
      "  >> verbosity    = 1\n",
      "[SimTrialRunner] ====================================\n",
      "[SimTrialRunner] Running trial...\n",
      "[SimTrialRunner] Initializing ball trajectory...\n",
      "[SimTrialRunner] Initialized.\n",
      "[SimTrialRunner] ====================================\n",
      "[SimTrialRunner] Completed Run.\n",
      "[SimTrialRunner]  >> Ball hit ground?.. YES.\n",
      "[SimTrialRunner]  >> Trajectory duration = 7.88s.\n",
      "[SimTrialRunner] Interpolating for final position between...\n",
      "[SimTrialRunner]   >> p1: [ 2.11218304e+02 -4.32923289e+01  9.59536155e-02]\n",
      "[SimTrialRunner]   >> p2: [211.62262619 -43.42580282  -0.22462115]\n",
      "[SimTrialRunner] Interpolated.\n",
      "[SimTrialRunner]   >> p_final: [211.33932462 -43.33227997   0.        ]\n",
      "[SimTrialRunner] Run complete.\n"
     ]
    },
    {
     "ename": "ProgrammingError",
     "evalue": "can't adapt type 'numpy.ndarray'",
     "output_type": "error",
     "traceback": [
      "\u001b[1;31m-------------------------------------------------------\u001b[0m",
      "\u001b[1;31mProgrammingError\u001b[0m      Traceback (most recent call last)",
      "File \u001b[1;32mC:\\Dev\\WindyGolfing\\venv\\Lib\\site-packages\\django\\db\\backends\\utils.py:89\u001b[0m, in \u001b[0;36mCursorWrapper._execute\u001b[1;34m(self, sql, params, *ignored_wrapper_args)\u001b[0m\n\u001b[0;32m     88\u001b[0m \u001b[38;5;28;01melse\u001b[39;00m:\n\u001b[1;32m---> 89\u001b[0m     \u001b[38;5;28;01mreturn\u001b[39;00m \u001b[38;5;28;43mself\u001b[39;49m\u001b[38;5;241;43m.\u001b[39;49m\u001b[43mcursor\u001b[49m\u001b[38;5;241;43m.\u001b[39;49m\u001b[43mexecute\u001b[49m\u001b[43m(\u001b[49m\u001b[43msql\u001b[49m\u001b[43m,\u001b[49m\u001b[43m \u001b[49m\u001b[43mparams\u001b[49m\u001b[43m)\u001b[49m\n",
      "\u001b[1;31mProgrammingError\u001b[0m: can't adapt type 'numpy.ndarray'",
      "\nThe above exception was the direct cause of the following exception:\n",
      "\u001b[1;31mProgrammingError\u001b[0m      Traceback (most recent call last)",
      "Cell \u001b[1;32mIn[5], line 34\u001b[0m\n\u001b[0;32m      1\u001b[0m experiment_params \u001b[38;5;241m=\u001b[39m {\n\u001b[0;32m      2\u001b[0m         \u001b[38;5;124m'\u001b[39m\u001b[38;5;124mwindgenparams_id\u001b[39m\u001b[38;5;124m'\u001b[39m: windgenparams_id,\n\u001b[0;32m      3\u001b[0m         \u001b[38;5;124m'\u001b[39m\u001b[38;5;124mwindspacetime_id\u001b[39m\u001b[38;5;124m'\u001b[39m: windspacetime_id,\n\u001b[1;32m   (...)\u001b[0m\n\u001b[0;32m     29\u001b[0m         \u001b[38;5;124m'\u001b[39m\u001b[38;5;124mprob_aiming_X3_spread\u001b[39m\u001b[38;5;124m'\u001b[39m: \u001b[38;5;28;01mNone\u001b[39;00m,    \n\u001b[0;32m     30\u001b[0m }\n\u001b[0;32m     32\u001b[0m runner \u001b[38;5;241m=\u001b[39m ExperimentRunner(experiment_params)\n\u001b[1;32m---> 34\u001b[0m simtrial_ids \u001b[38;5;241m=\u001b[39m \u001b[43mrunner\u001b[49m\u001b[38;5;241;43m.\u001b[39;49m\u001b[43mrun_experiment\u001b[49m\u001b[43m(\u001b[49m\u001b[43m)\u001b[49m\n\u001b[0;32m     36\u001b[0m collater \u001b[38;5;241m=\u001b[39m ExperimentCollater(experiment_params, chunked_simtrial_ids\u001b[38;5;241m=\u001b[39m[simtrial_ids])\n\u001b[0;32m     37\u001b[0m simexperiment_obj \u001b[38;5;241m=\u001b[39m collater\u001b[38;5;241m.\u001b[39msave_experiment()\n",
      "File \u001b[1;32mC:\\Dev\\WindyGolfing\\src\\simulator\\simulation\\scientists.py:262\u001b[0m, in \u001b[0;36mExperimentRunner.run_experiment\u001b[1;34m(self)\u001b[0m\n\u001b[0;32m    259\u001b[0m params[\u001b[38;5;124m'\u001b[39m\u001b[38;5;124mposition_final\u001b[39m\u001b[38;5;124m'\u001b[39m] \u001b[38;5;241m=\u001b[39m runner\u001b[38;5;241m.\u001b[39mp_final\n\u001b[0;32m    261\u001b[0m \u001b[38;5;66;03m# save the sim trial\u001b[39;00m\n\u001b[1;32m--> 262\u001b[0m \u001b[38;5;28mid\u001b[39m \u001b[38;5;241m=\u001b[39m \u001b[38;5;28;43mself\u001b[39;49m\u001b[38;5;241;43m.\u001b[39;49m\u001b[43msave_trial\u001b[49m\u001b[43m(\u001b[49m\u001b[43mrunner\u001b[49m\u001b[38;5;241;43m.\u001b[39;49m\u001b[43mball_position\u001b[49m\u001b[43m,\u001b[49m\u001b[43m \u001b[49m\u001b[43mparams\u001b[49m\u001b[43m)\u001b[49m\n\u001b[0;32m    263\u001b[0m simtrial_ids\u001b[38;5;241m.\u001b[39mappend(\u001b[38;5;28mid\u001b[39m)\n\u001b[0;32m    265\u001b[0m \u001b[38;5;66;03m# log result\u001b[39;00m\n",
      "File \u001b[1;32mC:\\Dev\\WindyGolfing\\src\\simulator\\simulation\\scientists.py:295\u001b[0m, in \u001b[0;36mExperimentRunner.save_trial\u001b[1;34m(self, arr_ball_position, params)\u001b[0m\n\u001b[0;32m    292\u001b[0m params_simtrial[\u001b[38;5;124m'\u001b[39m\u001b[38;5;124mspeed_initial\u001b[39m\u001b[38;5;124m'\u001b[39m] \u001b[38;5;241m=\u001b[39m \u001b[38;5;28mself\u001b[39m\u001b[38;5;241m.\u001b[39mspeed_initial\n\u001b[0;32m    294\u001b[0m \u001b[38;5;66;03m# save\u001b[39;00m\n\u001b[1;32m--> 295\u001b[0m simtrial_obj \u001b[38;5;241m=\u001b[39m \u001b[43mBlobWrangler\u001b[49m\u001b[43m(\u001b[49m\u001b[43m)\u001b[49m\u001b[38;5;241;43m.\u001b[39;49m\u001b[43mwrite_blob\u001b[49m\u001b[43m(\u001b[49m\u001b[43mdf\u001b[49m\u001b[43m,\u001b[49m\u001b[43m \u001b[49m\u001b[43mSimTrial\u001b[49m\u001b[43m,\u001b[49m\u001b[43m \u001b[49m\u001b[43mparams_simtrial\u001b[49m\u001b[43m)\u001b[49m\n\u001b[0;32m    297\u001b[0m \u001b[38;5;28;01mreturn\u001b[39;00m simtrial_obj\n",
      "File \u001b[1;32mC:\\Dev\\WindyGolfing\\src\\commons\\wranglers.py:45\u001b[0m, in \u001b[0;36mBlobWrangler.write_blob\u001b[1;34m(self, df, Model, model_params)\u001b[0m\n\u001b[0;32m     43\u001b[0m \u001b[38;5;66;03m# add blob_filename and save obj (after blob successfully stored)\u001b[39;00m\n\u001b[0;32m     44\u001b[0m obj\u001b[38;5;241m.\u001b[39mblob_filename \u001b[38;5;241m=\u001b[39m filename\n\u001b[1;32m---> 45\u001b[0m \u001b[43mobj\u001b[49m\u001b[38;5;241;43m.\u001b[39;49m\u001b[43msave\u001b[49m\u001b[43m(\u001b[49m\u001b[43m)\u001b[49m\n\u001b[0;32m     46\u001b[0m \u001b[38;5;28;01mreturn\u001b[39;00m obj\n",
      "File \u001b[1;32mC:\\Dev\\WindyGolfing\\venv\\Lib\\site-packages\\django\\db\\models\\base.py:812\u001b[0m, in \u001b[0;36mModel.save\u001b[1;34m(self, force_insert, force_update, using, update_fields)\u001b[0m\n\u001b[0;32m    809\u001b[0m     \u001b[38;5;28;01mif\u001b[39;00m loaded_fields:\n\u001b[0;32m    810\u001b[0m         update_fields \u001b[38;5;241m=\u001b[39m \u001b[38;5;28mfrozenset\u001b[39m(loaded_fields)\n\u001b[1;32m--> 812\u001b[0m \u001b[38;5;28;43mself\u001b[39;49m\u001b[38;5;241;43m.\u001b[39;49m\u001b[43msave_base\u001b[49m\u001b[43m(\u001b[49m\n\u001b[0;32m    813\u001b[0m \u001b[43m    \u001b[49m\u001b[43musing\u001b[49m\u001b[38;5;241;43m=\u001b[39;49m\u001b[43musing\u001b[49m\u001b[43m,\u001b[49m\n\u001b[0;32m    814\u001b[0m \u001b[43m    \u001b[49m\u001b[43mforce_insert\u001b[49m\u001b[38;5;241;43m=\u001b[39;49m\u001b[43mforce_insert\u001b[49m\u001b[43m,\u001b[49m\n\u001b[0;32m    815\u001b[0m \u001b[43m    \u001b[49m\u001b[43mforce_update\u001b[49m\u001b[38;5;241;43m=\u001b[39;49m\u001b[43mforce_update\u001b[49m\u001b[43m,\u001b[49m\n\u001b[0;32m    816\u001b[0m \u001b[43m    \u001b[49m\u001b[43mupdate_fields\u001b[49m\u001b[38;5;241;43m=\u001b[39;49m\u001b[43mupdate_fields\u001b[49m\u001b[43m,\u001b[49m\n\u001b[0;32m    817\u001b[0m \u001b[43m\u001b[49m\u001b[43m)\u001b[49m\n",
      "File \u001b[1;32mC:\\Dev\\WindyGolfing\\venv\\Lib\\site-packages\\django\\db\\models\\base.py:863\u001b[0m, in \u001b[0;36mModel.save_base\u001b[1;34m(self, raw, force_insert, force_update, using, update_fields)\u001b[0m\n\u001b[0;32m    861\u001b[0m     \u001b[38;5;28;01mif\u001b[39;00m \u001b[38;5;129;01mnot\u001b[39;00m raw:\n\u001b[0;32m    862\u001b[0m         parent_inserted \u001b[38;5;241m=\u001b[39m \u001b[38;5;28mself\u001b[39m\u001b[38;5;241m.\u001b[39m_save_parents(\u001b[38;5;28mcls\u001b[39m, using, update_fields)\n\u001b[1;32m--> 863\u001b[0m     updated \u001b[38;5;241m=\u001b[39m \u001b[38;5;28;43mself\u001b[39;49m\u001b[38;5;241;43m.\u001b[39;49m\u001b[43m_save_table\u001b[49m\u001b[43m(\u001b[49m\n\u001b[0;32m    864\u001b[0m \u001b[43m        \u001b[49m\u001b[43mraw\u001b[49m\u001b[43m,\u001b[49m\n\u001b[0;32m    865\u001b[0m \u001b[43m        \u001b[49m\u001b[38;5;28;43mcls\u001b[39;49m\u001b[43m,\u001b[49m\n\u001b[0;32m    866\u001b[0m \u001b[43m        \u001b[49m\u001b[43mforce_insert\u001b[49m\u001b[43m \u001b[49m\u001b[38;5;129;43;01mor\u001b[39;49;00m\u001b[43m \u001b[49m\u001b[43mparent_inserted\u001b[49m\u001b[43m,\u001b[49m\n\u001b[0;32m    867\u001b[0m \u001b[43m        \u001b[49m\u001b[43mforce_update\u001b[49m\u001b[43m,\u001b[49m\n\u001b[0;32m    868\u001b[0m \u001b[43m        \u001b[49m\u001b[43musing\u001b[49m\u001b[43m,\u001b[49m\n\u001b[0;32m    869\u001b[0m \u001b[43m        \u001b[49m\u001b[43mupdate_fields\u001b[49m\u001b[43m,\u001b[49m\n\u001b[0;32m    870\u001b[0m \u001b[43m    \u001b[49m\u001b[43m)\u001b[49m\n\u001b[0;32m    871\u001b[0m \u001b[38;5;66;03m# Store the database on which the object was saved\u001b[39;00m\n\u001b[0;32m    872\u001b[0m \u001b[38;5;28mself\u001b[39m\u001b[38;5;241m.\u001b[39m_state\u001b[38;5;241m.\u001b[39mdb \u001b[38;5;241m=\u001b[39m using\n",
      "File \u001b[1;32mC:\\Dev\\WindyGolfing\\venv\\Lib\\site-packages\\django\\db\\models\\base.py:1006\u001b[0m, in \u001b[0;36mModel._save_table\u001b[1;34m(self, raw, cls, force_insert, force_update, using, update_fields)\u001b[0m\n\u001b[0;32m   1003\u001b[0m     fields \u001b[38;5;241m=\u001b[39m [f \u001b[38;5;28;01mfor\u001b[39;00m f \u001b[38;5;129;01min\u001b[39;00m fields \u001b[38;5;28;01mif\u001b[39;00m f \u001b[38;5;129;01mis\u001b[39;00m \u001b[38;5;129;01mnot\u001b[39;00m meta\u001b[38;5;241m.\u001b[39mauto_field]\n\u001b[0;32m   1005\u001b[0m returning_fields \u001b[38;5;241m=\u001b[39m meta\u001b[38;5;241m.\u001b[39mdb_returning_fields\n\u001b[1;32m-> 1006\u001b[0m results \u001b[38;5;241m=\u001b[39m \u001b[38;5;28;43mself\u001b[39;49m\u001b[38;5;241;43m.\u001b[39;49m\u001b[43m_do_insert\u001b[49m\u001b[43m(\u001b[49m\n\u001b[0;32m   1007\u001b[0m \u001b[43m    \u001b[49m\u001b[38;5;28;43mcls\u001b[39;49m\u001b[38;5;241;43m.\u001b[39;49m\u001b[43m_base_manager\u001b[49m\u001b[43m,\u001b[49m\u001b[43m \u001b[49m\u001b[43musing\u001b[49m\u001b[43m,\u001b[49m\u001b[43m \u001b[49m\u001b[43mfields\u001b[49m\u001b[43m,\u001b[49m\u001b[43m \u001b[49m\u001b[43mreturning_fields\u001b[49m\u001b[43m,\u001b[49m\u001b[43m \u001b[49m\u001b[43mraw\u001b[49m\n\u001b[0;32m   1008\u001b[0m \u001b[43m\u001b[49m\u001b[43m)\u001b[49m\n\u001b[0;32m   1009\u001b[0m \u001b[38;5;28;01mif\u001b[39;00m results:\n\u001b[0;32m   1010\u001b[0m     \u001b[38;5;28;01mfor\u001b[39;00m value, field \u001b[38;5;129;01min\u001b[39;00m \u001b[38;5;28mzip\u001b[39m(results[\u001b[38;5;241m0\u001b[39m], returning_fields):\n",
      "File \u001b[1;32mC:\\Dev\\WindyGolfing\\venv\\Lib\\site-packages\\django\\db\\models\\base.py:1047\u001b[0m, in \u001b[0;36mModel._do_insert\u001b[1;34m(self, manager, using, fields, returning_fields, raw)\u001b[0m\n\u001b[0;32m   1042\u001b[0m \u001b[38;5;28;01mdef\u001b[39;00m \u001b[38;5;21m_do_insert\u001b[39m(\u001b[38;5;28mself\u001b[39m, manager, using, fields, returning_fields, raw):\n\u001b[0;32m   1043\u001b[0m     \u001b[38;5;124;03m\"\"\"\u001b[39;00m\n\u001b[0;32m   1044\u001b[0m \u001b[38;5;124;03m    Do an INSERT. If returning_fields is defined then this method should\u001b[39;00m\n\u001b[0;32m   1045\u001b[0m \u001b[38;5;124;03m    return the newly created data for the model.\u001b[39;00m\n\u001b[0;32m   1046\u001b[0m \u001b[38;5;124;03m    \"\"\"\u001b[39;00m\n\u001b[1;32m-> 1047\u001b[0m     \u001b[38;5;28;01mreturn\u001b[39;00m \u001b[43mmanager\u001b[49m\u001b[38;5;241;43m.\u001b[39;49m\u001b[43m_insert\u001b[49m\u001b[43m(\u001b[49m\n\u001b[0;32m   1048\u001b[0m \u001b[43m        \u001b[49m\u001b[43m[\u001b[49m\u001b[38;5;28;43mself\u001b[39;49m\u001b[43m]\u001b[49m\u001b[43m,\u001b[49m\n\u001b[0;32m   1049\u001b[0m \u001b[43m        \u001b[49m\u001b[43mfields\u001b[49m\u001b[38;5;241;43m=\u001b[39;49m\u001b[43mfields\u001b[49m\u001b[43m,\u001b[49m\n\u001b[0;32m   1050\u001b[0m \u001b[43m        \u001b[49m\u001b[43mreturning_fields\u001b[49m\u001b[38;5;241;43m=\u001b[39;49m\u001b[43mreturning_fields\u001b[49m\u001b[43m,\u001b[49m\n\u001b[0;32m   1051\u001b[0m \u001b[43m        \u001b[49m\u001b[43musing\u001b[49m\u001b[38;5;241;43m=\u001b[39;49m\u001b[43musing\u001b[49m\u001b[43m,\u001b[49m\n\u001b[0;32m   1052\u001b[0m \u001b[43m        \u001b[49m\u001b[43mraw\u001b[49m\u001b[38;5;241;43m=\u001b[39;49m\u001b[43mraw\u001b[49m\u001b[43m,\u001b[49m\n\u001b[0;32m   1053\u001b[0m \u001b[43m    \u001b[49m\u001b[43m)\u001b[49m\n",
      "File \u001b[1;32mC:\\Dev\\WindyGolfing\\venv\\Lib\\site-packages\\django\\db\\models\\manager.py:85\u001b[0m, in \u001b[0;36mBaseManager._get_queryset_methods.<locals>.create_method.<locals>.manager_method\u001b[1;34m(self, *args, **kwargs)\u001b[0m\n\u001b[0;32m     84\u001b[0m \u001b[38;5;28;01mdef\u001b[39;00m \u001b[38;5;21mmanager_method\u001b[39m(\u001b[38;5;28mself\u001b[39m, \u001b[38;5;241m*\u001b[39margs, \u001b[38;5;241m*\u001b[39m\u001b[38;5;241m*\u001b[39mkwargs):\n\u001b[1;32m---> 85\u001b[0m     \u001b[38;5;28;01mreturn\u001b[39;00m \u001b[38;5;28;43mgetattr\u001b[39;49m\u001b[43m(\u001b[49m\u001b[38;5;28;43mself\u001b[39;49m\u001b[38;5;241;43m.\u001b[39;49m\u001b[43mget_queryset\u001b[49m\u001b[43m(\u001b[49m\u001b[43m)\u001b[49m\u001b[43m,\u001b[49m\u001b[43m \u001b[49m\u001b[43mname\u001b[49m\u001b[43m)\u001b[49m\u001b[43m(\u001b[49m\u001b[38;5;241;43m*\u001b[39;49m\u001b[43margs\u001b[49m\u001b[43m,\u001b[49m\u001b[43m \u001b[49m\u001b[38;5;241;43m*\u001b[39;49m\u001b[38;5;241;43m*\u001b[39;49m\u001b[43mkwargs\u001b[49m\u001b[43m)\u001b[49m\n",
      "File \u001b[1;32mC:\\Dev\\WindyGolfing\\venv\\Lib\\site-packages\\django\\db\\models\\query.py:1790\u001b[0m, in \u001b[0;36mQuerySet._insert\u001b[1;34m(self, objs, fields, returning_fields, raw, using, on_conflict, update_fields, unique_fields)\u001b[0m\n\u001b[0;32m   1783\u001b[0m query \u001b[38;5;241m=\u001b[39m sql\u001b[38;5;241m.\u001b[39mInsertQuery(\n\u001b[0;32m   1784\u001b[0m     \u001b[38;5;28mself\u001b[39m\u001b[38;5;241m.\u001b[39mmodel,\n\u001b[0;32m   1785\u001b[0m     on_conflict\u001b[38;5;241m=\u001b[39mon_conflict,\n\u001b[0;32m   1786\u001b[0m     update_fields\u001b[38;5;241m=\u001b[39mupdate_fields,\n\u001b[0;32m   1787\u001b[0m     unique_fields\u001b[38;5;241m=\u001b[39munique_fields,\n\u001b[0;32m   1788\u001b[0m )\n\u001b[0;32m   1789\u001b[0m query\u001b[38;5;241m.\u001b[39minsert_values(fields, objs, raw\u001b[38;5;241m=\u001b[39mraw)\n\u001b[1;32m-> 1790\u001b[0m \u001b[38;5;28;01mreturn\u001b[39;00m \u001b[43mquery\u001b[49m\u001b[38;5;241;43m.\u001b[39;49m\u001b[43mget_compiler\u001b[49m\u001b[43m(\u001b[49m\u001b[43musing\u001b[49m\u001b[38;5;241;43m=\u001b[39;49m\u001b[43musing\u001b[49m\u001b[43m)\u001b[49m\u001b[38;5;241;43m.\u001b[39;49m\u001b[43mexecute_sql\u001b[49m\u001b[43m(\u001b[49m\u001b[43mreturning_fields\u001b[49m\u001b[43m)\u001b[49m\n",
      "File \u001b[1;32mC:\\Dev\\WindyGolfing\\venv\\Lib\\site-packages\\django\\db\\models\\sql\\compiler.py:1660\u001b[0m, in \u001b[0;36mSQLInsertCompiler.execute_sql\u001b[1;34m(self, returning_fields)\u001b[0m\n\u001b[0;32m   1658\u001b[0m \u001b[38;5;28;01mwith\u001b[39;00m \u001b[38;5;28mself\u001b[39m\u001b[38;5;241m.\u001b[39mconnection\u001b[38;5;241m.\u001b[39mcursor() \u001b[38;5;28;01mas\u001b[39;00m cursor:\n\u001b[0;32m   1659\u001b[0m     \u001b[38;5;28;01mfor\u001b[39;00m sql, params \u001b[38;5;129;01min\u001b[39;00m \u001b[38;5;28mself\u001b[39m\u001b[38;5;241m.\u001b[39mas_sql():\n\u001b[1;32m-> 1660\u001b[0m         \u001b[43mcursor\u001b[49m\u001b[38;5;241;43m.\u001b[39;49m\u001b[43mexecute\u001b[49m\u001b[43m(\u001b[49m\u001b[43msql\u001b[49m\u001b[43m,\u001b[49m\u001b[43m \u001b[49m\u001b[43mparams\u001b[49m\u001b[43m)\u001b[49m\n\u001b[0;32m   1661\u001b[0m     \u001b[38;5;28;01mif\u001b[39;00m \u001b[38;5;129;01mnot\u001b[39;00m \u001b[38;5;28mself\u001b[39m\u001b[38;5;241m.\u001b[39mreturning_fields:\n\u001b[0;32m   1662\u001b[0m         \u001b[38;5;28;01mreturn\u001b[39;00m []\n",
      "File \u001b[1;32mC:\\Dev\\WindyGolfing\\venv\\Lib\\site-packages\\django\\db\\backends\\utils.py:103\u001b[0m, in \u001b[0;36mCursorDebugWrapper.execute\u001b[1;34m(self, sql, params)\u001b[0m\n\u001b[0;32m    101\u001b[0m \u001b[38;5;28;01mdef\u001b[39;00m \u001b[38;5;21mexecute\u001b[39m(\u001b[38;5;28mself\u001b[39m, sql, params\u001b[38;5;241m=\u001b[39m\u001b[38;5;28;01mNone\u001b[39;00m):\n\u001b[0;32m    102\u001b[0m     \u001b[38;5;28;01mwith\u001b[39;00m \u001b[38;5;28mself\u001b[39m\u001b[38;5;241m.\u001b[39mdebug_sql(sql, params, use_last_executed_query\u001b[38;5;241m=\u001b[39m\u001b[38;5;28;01mTrue\u001b[39;00m):\n\u001b[1;32m--> 103\u001b[0m         \u001b[38;5;28;01mreturn\u001b[39;00m \u001b[38;5;28;43msuper\u001b[39;49m\u001b[43m(\u001b[49m\u001b[43m)\u001b[49m\u001b[38;5;241;43m.\u001b[39;49m\u001b[43mexecute\u001b[49m\u001b[43m(\u001b[49m\u001b[43msql\u001b[49m\u001b[43m,\u001b[49m\u001b[43m \u001b[49m\u001b[43mparams\u001b[49m\u001b[43m)\u001b[49m\n",
      "File \u001b[1;32mC:\\Dev\\WindyGolfing\\venv\\Lib\\site-packages\\django\\db\\backends\\utils.py:67\u001b[0m, in \u001b[0;36mCursorWrapper.execute\u001b[1;34m(self, sql, params)\u001b[0m\n\u001b[0;32m     66\u001b[0m \u001b[38;5;28;01mdef\u001b[39;00m \u001b[38;5;21mexecute\u001b[39m(\u001b[38;5;28mself\u001b[39m, sql, params\u001b[38;5;241m=\u001b[39m\u001b[38;5;28;01mNone\u001b[39;00m):\n\u001b[1;32m---> 67\u001b[0m     \u001b[38;5;28;01mreturn\u001b[39;00m \u001b[38;5;28;43mself\u001b[39;49m\u001b[38;5;241;43m.\u001b[39;49m\u001b[43m_execute_with_wrappers\u001b[49m\u001b[43m(\u001b[49m\n\u001b[0;32m     68\u001b[0m \u001b[43m        \u001b[49m\u001b[43msql\u001b[49m\u001b[43m,\u001b[49m\u001b[43m \u001b[49m\u001b[43mparams\u001b[49m\u001b[43m,\u001b[49m\u001b[43m \u001b[49m\u001b[43mmany\u001b[49m\u001b[38;5;241;43m=\u001b[39;49m\u001b[38;5;28;43;01mFalse\u001b[39;49;00m\u001b[43m,\u001b[49m\u001b[43m \u001b[49m\u001b[43mexecutor\u001b[49m\u001b[38;5;241;43m=\u001b[39;49m\u001b[38;5;28;43mself\u001b[39;49m\u001b[38;5;241;43m.\u001b[39;49m\u001b[43m_execute\u001b[49m\n\u001b[0;32m     69\u001b[0m \u001b[43m    \u001b[49m\u001b[43m)\u001b[49m\n",
      "File \u001b[1;32mC:\\Dev\\WindyGolfing\\venv\\Lib\\site-packages\\django\\db\\backends\\utils.py:80\u001b[0m, in \u001b[0;36mCursorWrapper._execute_with_wrappers\u001b[1;34m(self, sql, params, many, executor)\u001b[0m\n\u001b[0;32m     78\u001b[0m \u001b[38;5;28;01mfor\u001b[39;00m wrapper \u001b[38;5;129;01min\u001b[39;00m \u001b[38;5;28mreversed\u001b[39m(\u001b[38;5;28mself\u001b[39m\u001b[38;5;241m.\u001b[39mdb\u001b[38;5;241m.\u001b[39mexecute_wrappers):\n\u001b[0;32m     79\u001b[0m     executor \u001b[38;5;241m=\u001b[39m functools\u001b[38;5;241m.\u001b[39mpartial(wrapper, executor)\n\u001b[1;32m---> 80\u001b[0m \u001b[38;5;28;01mreturn\u001b[39;00m \u001b[43mexecutor\u001b[49m\u001b[43m(\u001b[49m\u001b[43msql\u001b[49m\u001b[43m,\u001b[49m\u001b[43m \u001b[49m\u001b[43mparams\u001b[49m\u001b[43m,\u001b[49m\u001b[43m \u001b[49m\u001b[43mmany\u001b[49m\u001b[43m,\u001b[49m\u001b[43m \u001b[49m\u001b[43mcontext\u001b[49m\u001b[43m)\u001b[49m\n",
      "File \u001b[1;32mC:\\Dev\\WindyGolfing\\venv\\Lib\\site-packages\\django\\db\\backends\\utils.py:84\u001b[0m, in \u001b[0;36mCursorWrapper._execute\u001b[1;34m(self, sql, params, *ignored_wrapper_args)\u001b[0m\n\u001b[0;32m     82\u001b[0m \u001b[38;5;28;01mdef\u001b[39;00m \u001b[38;5;21m_execute\u001b[39m(\u001b[38;5;28mself\u001b[39m, sql, params, \u001b[38;5;241m*\u001b[39mignored_wrapper_args):\n\u001b[0;32m     83\u001b[0m     \u001b[38;5;28mself\u001b[39m\u001b[38;5;241m.\u001b[39mdb\u001b[38;5;241m.\u001b[39mvalidate_no_broken_transaction()\n\u001b[1;32m---> 84\u001b[0m \u001b[43m    \u001b[49m\u001b[38;5;28;43;01mwith\u001b[39;49;00m\u001b[43m \u001b[49m\u001b[38;5;28;43mself\u001b[39;49m\u001b[38;5;241;43m.\u001b[39;49m\u001b[43mdb\u001b[49m\u001b[38;5;241;43m.\u001b[39;49m\u001b[43mwrap_database_errors\u001b[49m\u001b[43m:\u001b[49m\n\u001b[0;32m     85\u001b[0m \u001b[43m        \u001b[49m\u001b[38;5;28;43;01mif\u001b[39;49;00m\u001b[43m \u001b[49m\u001b[43mparams\u001b[49m\u001b[43m \u001b[49m\u001b[38;5;129;43;01mis\u001b[39;49;00m\u001b[43m \u001b[49m\u001b[38;5;28;43;01mNone\u001b[39;49;00m\u001b[43m:\u001b[49m\n\u001b[0;32m     86\u001b[0m \u001b[43m            \u001b[49m\u001b[38;5;66;43;03m# params default might be backend specific.\u001b[39;49;00m\n\u001b[0;32m     87\u001b[0m \u001b[43m            \u001b[49m\u001b[38;5;28;43;01mreturn\u001b[39;49;00m\u001b[43m \u001b[49m\u001b[38;5;28;43mself\u001b[39;49m\u001b[38;5;241;43m.\u001b[39;49m\u001b[43mcursor\u001b[49m\u001b[38;5;241;43m.\u001b[39;49m\u001b[43mexecute\u001b[49m\u001b[43m(\u001b[49m\u001b[43msql\u001b[49m\u001b[43m)\u001b[49m\n",
      "File \u001b[1;32mC:\\Dev\\WindyGolfing\\venv\\Lib\\site-packages\\django\\db\\utils.py:91\u001b[0m, in \u001b[0;36mDatabaseErrorWrapper.__exit__\u001b[1;34m(self, exc_type, exc_value, traceback)\u001b[0m\n\u001b[0;32m     89\u001b[0m \u001b[38;5;28;01mif\u001b[39;00m dj_exc_type \u001b[38;5;129;01mnot\u001b[39;00m \u001b[38;5;129;01min\u001b[39;00m (DataError, IntegrityError):\n\u001b[0;32m     90\u001b[0m     \u001b[38;5;28mself\u001b[39m\u001b[38;5;241m.\u001b[39mwrapper\u001b[38;5;241m.\u001b[39merrors_occurred \u001b[38;5;241m=\u001b[39m \u001b[38;5;28;01mTrue\u001b[39;00m\n\u001b[1;32m---> 91\u001b[0m \u001b[38;5;28;01mraise\u001b[39;00m dj_exc_value\u001b[38;5;241m.\u001b[39mwith_traceback(traceback) \u001b[38;5;28;01mfrom\u001b[39;00m \u001b[38;5;21;01mexc_value\u001b[39;00m\n",
      "File \u001b[1;32mC:\\Dev\\WindyGolfing\\venv\\Lib\\site-packages\\django\\db\\backends\\utils.py:89\u001b[0m, in \u001b[0;36mCursorWrapper._execute\u001b[1;34m(self, sql, params, *ignored_wrapper_args)\u001b[0m\n\u001b[0;32m     87\u001b[0m     \u001b[38;5;28;01mreturn\u001b[39;00m \u001b[38;5;28mself\u001b[39m\u001b[38;5;241m.\u001b[39mcursor\u001b[38;5;241m.\u001b[39mexecute(sql)\n\u001b[0;32m     88\u001b[0m \u001b[38;5;28;01melse\u001b[39;00m:\n\u001b[1;32m---> 89\u001b[0m     \u001b[38;5;28;01mreturn\u001b[39;00m \u001b[38;5;28;43mself\u001b[39;49m\u001b[38;5;241;43m.\u001b[39;49m\u001b[43mcursor\u001b[49m\u001b[38;5;241;43m.\u001b[39;49m\u001b[43mexecute\u001b[49m\u001b[43m(\u001b[49m\u001b[43msql\u001b[49m\u001b[43m,\u001b[49m\u001b[43m \u001b[49m\u001b[43mparams\u001b[49m\u001b[43m)\u001b[49m\n",
      "\u001b[1;31mProgrammingError\u001b[0m: can't adapt type 'numpy.ndarray'"
     ]
    }
   ],
   "source": [
    "experiment_params = {\n",
    "        'windgenparams_id': windgenparams_id,\n",
    "        'windspacetime_id': windspacetime_id,\n",
    "        'num_trials': 10000,\n",
    "        'timestep': 0.01,\n",
    "        'prob_speed_fn_name': 'Uniform',\n",
    "        'prob_speed_min': 40,\n",
    "        'prob_speed_max': 44, # m/s\n",
    "        'prob_speed_center': None,\n",
    "        'prob_speed_spread': None,\n",
    "        'prob_timing_fn_name': 'Uniform',\n",
    "        'prob_timing_min': 0, # s\n",
    "        'prob_timing_max': 2,\n",
    "        'prob_timing_center': None,\n",
    "        'prob_timing_spread': None,\n",
    "        'prob_aiming_fn_name': 'Uniform',\n",
    "        'prob_aiming_geometry': 'Spherical',\n",
    "        'prob_aiming_X1_min': -0.1745329,  # -10 deg\n",
    "        'prob_aiming_X1_max': 0.1745329,   #  10 deg\n",
    "        'prob_aiming_X1_center': None,\n",
    "        'prob_aiming_X1_spread': None,\n",
    "        'prob_aiming_X2_min': 0.7330383,   # 42 deg\n",
    "        'prob_aiming_X2_max': 0.837758, # 48 deg\n",
    "        'prob_aiming_X2_center': None,\n",
    "        'prob_aiming_X2_spread': None,\n",
    "        'prob_aiming_X3_min': 0,      # throwaway coordinate\n",
    "        'prob_aiming_X3_max': 1,\n",
    "        'prob_aiming_X3_center': None,\n",
    "        'prob_aiming_X3_spread': None,    \n",
    "}\n",
    "\n",
    "runner = ExperimentRunner(experiment_params)\n",
    "\n",
    "simtrial_ids = runner.run_experiment()\n",
    "\n",
    "collater = ExperimentCollater(experiment_params, chunked_simtrial_ids=[simtrial_ids])\n",
    "simexperiment_obj = collater.save_experiment()"
   ]
  },
  {
   "cell_type": "markdown",
   "id": "94bc0f7e",
   "metadata": {},
   "source": [
    "Awesome! We successfully ran a 10,000 trial simulation experiment. This took a few minutes and considering that Monte Carlo simulation is \"embarassingly parallel\", we'll add a couple user stories to develop next:\n",
    "* The user should be able to specify number of workers to run the simulation in parallel via the distributed task queue, Celery.\n",
    "* Add HTTP endpoint to run the experiment.\n"
   ]
  },
  {
   "cell_type": "markdown",
   "id": "3a4c4496",
   "metadata": {},
   "source": [
    "But first, let's analyze the results from this experiment..."
   ]
  },
  {
   "cell_type": "markdown",
   "id": "84ee4d97",
   "metadata": {},
   "source": [
    "## Step 3: Analyze Results"
   ]
  },
  {
   "cell_type": "markdown",
   "id": "f38b43bb",
   "metadata": {},
   "source": [
    "### Inspect table entry"
   ]
  },
  {
   "cell_type": "code",
   "execution_count": null,
   "id": "d82a4915",
   "metadata": {},
   "outputs": [],
   "source": [
    "se = simexperiment_obj"
   ]
  },
  {
   "cell_type": "code",
   "execution_count": null,
   "id": "ff5f7239",
   "metadata": {},
   "outputs": [],
   "source": [
    "print(se.windgenparams_id)\n",
    "print(se.windspacetime_id)\n",
    "print(se.m)\n",
    "print(se.g)\n",
    "print(se.prob_speed_fn_name)\n",
    "print(se.prob_speed_min)\n",
    "print(se.prob_speed_max)\n",
    "print(se.prob_timing_fn_name)\n",
    "print(se.prob_aiming_fn_name)\n",
    "print(se.prob_aiming_geometry)\n",
    "print(se.prob_aiming_X1_min)\n",
    "print(se.prob_aiming_X1_max)\n",
    "print(se.prob_aiming_X2_min)\n",
    "print(se.prob_aiming_X2_max)\n",
    "print(se.num_trials)\n",
    "print(se.timestep)"
   ]
  },
  {
   "cell_type": "code",
   "execution_count": null,
   "id": "cb95f590",
   "metadata": {},
   "outputs": [],
   "source": [
    "# how many total simtrials in this experiment?\n",
    "print(se.simtrials.all().count())\n",
    "\n",
    "# how many simtrials hit the ground?\n",
    "## TO DO --> add model fields to track the details being logged above:\n",
    "### * t_initial\n",
    "### * time_initial\n",
    "### * v_initial\n",
    "### * p_initial\n",
    "### * p_final\n",
    "### * trajectory_hit_ground [bool]\n",
    "### * trajectory_duration"
   ]
  },
  {
   "cell_type": "markdown",
   "id": "0f8ec02e",
   "metadata": {},
   "source": [
    "### Plotters"
   ]
  },
  {
   "cell_type": "markdown",
   "id": "0c1cc4ba",
   "metadata": {},
   "source": [
    "### Plot p_final distribution"
   ]
  },
  {
   "cell_type": "code",
   "execution_count": null,
   "id": "2d3ff795",
   "metadata": {},
   "outputs": [],
   "source": [
    "# collect list of final (x,y) coordinates"
   ]
  },
  {
   "cell_type": "code",
   "execution_count": null,
   "id": "df5a006b",
   "metadata": {},
   "outputs": [],
   "source": []
  }
 ],
 "metadata": {
  "kernelspec": {
   "display_name": "Django Shell-Plus",
   "language": "python",
   "name": "django_extensions"
  },
  "language_info": {
   "codemirror_mode": {
    "name": "ipython",
    "version": 3
   },
   "file_extension": ".py",
   "mimetype": "text/x-python",
   "name": "python",
   "nbconvert_exporter": "python",
   "pygments_lexer": "ipython3",
   "version": "3.11.0"
  },
  "vscode": {
   "interpreter": {
    "hash": "0142ca43a1843b8be189037626852c669159625eccf87d58667f7951b61917cd"
   }
  }
 },
 "nbformat": 4,
 "nbformat_minor": 5
}
