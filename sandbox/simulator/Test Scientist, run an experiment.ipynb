{
 "cells": [
  {
   "cell_type": "markdown",
   "id": "beee6bbb",
   "metadata": {},
   "source": [
    "# Test Scientist: Run an Experiment"
   ]
  },
  {
   "cell_type": "code",
   "execution_count": 3,
   "id": "f06e1634",
   "metadata": {},
   "outputs": [],
   "source": [
    "from simulator.simulation.scientists import Scientist\n",
    "from winds.generators import OscillatoryGenerator\n",
    "\n",
    "import numpy as np\n",
    "from numpy import pi"
   ]
  },
  {
   "cell_type": "markdown",
   "id": "2660173f",
   "metadata": {},
   "source": [
    "## Load or Create Winds"
   ]
  },
  {
   "cell_type": "markdown",
   "id": "b1223f56",
   "metadata": {},
   "source": [
    "## Run Experiment"
   ]
  },
  {
   "cell_type": "code",
   "execution_count": 4,
   "id": "520a1894",
   "metadata": {},
   "outputs": [
    {
     "ename": "TypeError",
     "evalue": "Scientist.load_windspacetime() takes 1 positional argument but 2 were given",
     "output_type": "error",
     "traceback": [
      "\u001b[1;31m---------------------------------------------------------------------------\u001b[0m",
      "\u001b[1;31mTypeError\u001b[0m                                 Traceback (most recent call last)",
      "Cell \u001b[1;32mIn[4], line 29\u001b[0m\n\u001b[0;32m      1\u001b[0m params \u001b[38;5;241m=\u001b[39m {\n\u001b[0;32m      2\u001b[0m         \u001b[38;5;124m'\u001b[39m\u001b[38;5;124mwindspacetime_id\u001b[39m\u001b[38;5;124m'\u001b[39m: \u001b[38;5;124m'\u001b[39m\u001b[38;5;124m'\u001b[39m,\n\u001b[0;32m      3\u001b[0m         \u001b[38;5;124m'\u001b[39m\u001b[38;5;124mnum_trials\u001b[39m\u001b[38;5;124m'\u001b[39m: \u001b[38;5;241m10\u001b[39m,\n\u001b[1;32m   (...)\u001b[0m\n\u001b[0;32m     27\u001b[0m \n\u001b[0;32m     28\u001b[0m }\n\u001b[1;32m---> 29\u001b[0m scientist \u001b[38;5;241m=\u001b[39m \u001b[43mScientist\u001b[49m\u001b[43m(\u001b[49m\u001b[43mparams\u001b[49m\u001b[43m)\u001b[49m\n\u001b[0;32m     30\u001b[0m scientist\u001b[38;5;241m.\u001b[39mrun_experiment()\n",
      "File \u001b[1;32mC:\\Dev\\WindyGolfing\\src\\simulator\\simulation\\scientists.py:110\u001b[0m, in \u001b[0;36mScientist.__init__\u001b[1;34m(self, params)\u001b[0m\n\u001b[0;32m    107\u001b[0m \u001b[38;5;28mself\u001b[39m\u001b[38;5;241m.\u001b[39mparams \u001b[38;5;241m=\u001b[39m params\n\u001b[0;32m    109\u001b[0m \u001b[38;5;66;03m# load winds\u001b[39;00m\n\u001b[1;32m--> 110\u001b[0m \u001b[38;5;28;43mself\u001b[39;49m\u001b[38;5;241;43m.\u001b[39;49m\u001b[43mload_windspacetime\u001b[49m\u001b[43m(\u001b[49m\u001b[38;5;28;43mself\u001b[39;49m\u001b[38;5;241;43m.\u001b[39;49m\u001b[43mparams\u001b[49m\u001b[43m)\u001b[49m\n\u001b[0;32m    112\u001b[0m \u001b[38;5;66;03m# build probability functions\u001b[39;00m\n\u001b[0;32m    113\u001b[0m \u001b[38;5;28mself\u001b[39m\u001b[38;5;241m.\u001b[39mgen_prob_fns()\n",
      "\u001b[1;31mTypeError\u001b[0m: Scientist.load_windspacetime() takes 1 positional argument but 2 were given"
     ]
    }
   ],
   "source": [
    "params = {\n",
    "        'windspacetime_id': '',\n",
    "        'num_trials': 10,\n",
    "        'prob_speed_fn_name': 'Uniform',\n",
    "        'max_initial_speed': 42, # m/s\n",
    "        'prob_speed_center': None,\n",
    "        'prob_speed_spread': None,\n",
    "        'prob_timing_fn_name': 'Uniform',\n",
    "        'max_wait_time': 1, # s\n",
    "        'prob_timing_center': None,\n",
    "        'prob_timing_spread': None,\n",
    "        'prob_aiming_fn_name': 'Uniform',\n",
    "        'prob_aiming_geometry': 'Spherical',\n",
    "        'prob_aiming_X1_min': -pi/4,  # -45 deg\n",
    "        'prob_aiming_X1_max': pi/4,   #  45 deg\n",
    "        'prob_aiming_X1_center': None,\n",
    "        'prob_aiming_X1_spread': None,\n",
    "        'prob_aiming_X2_min': pi/6,   # 30 deg down from vertical \n",
    "        'prob_aiming_X2_max': 2*pi/3, # 120 deg down from vertical = 30 deg below horiztonal\n",
    "        'prob_aiming_X2_center': None,\n",
    "        'prob_aiming_X2_spread': None,\n",
    "        'prob_aiming_X3_min': 0,      # throwaway coordinate\n",
    "        'prob_aiming_X3_max': 1,\n",
    "        'prob_aiming_X3_center': None,\n",
    "        'prob_aiming_X3_spread': None,\n",
    "        'timestep': 0.01,\n",
    "\n",
    "}\n",
    "scientist = Scientist(params)\n",
    "scientist.run_experiment()"
   ]
  },
  {
   "cell_type": "code",
   "execution_count": null,
   "id": "ec471cff",
   "metadata": {},
   "outputs": [],
   "source": []
  }
 ],
 "metadata": {
  "kernelspec": {
   "display_name": "Django Shell-Plus",
   "language": "python",
   "name": "django_extensions"
  },
  "language_info": {
   "codemirror_mode": {
    "name": "ipython",
    "version": 3
   },
   "file_extension": ".py",
   "mimetype": "text/x-python",
   "name": "python",
   "nbconvert_exporter": "python",
   "pygments_lexer": "ipython3",
   "version": "3.11.0"
  }
 },
 "nbformat": 4,
 "nbformat_minor": 5
}
